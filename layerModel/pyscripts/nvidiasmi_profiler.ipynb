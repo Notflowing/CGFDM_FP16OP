{
 "cells": [
  {
   "cell_type": "code",
   "execution_count": 48,
   "metadata": {},
   "outputs": [],
   "source": [
    "import numpy as np\n",
    "import matplotlib.pyplot as plt\n",
    "\n",
    "%matplotlib inline\n",
    "%config InlineBackend.figure_format = 'svg'"
   ]
  },
  {
   "cell_type": "code",
   "execution_count": 49,
   "metadata": {},
   "outputs": [
    {
     "name": "stdout",
     "output_type": "stream",
     "text": [
      "[6833.5, 3857.5, 3857.5]\n",
      "[92.10239226331863, 91.20268569030634, 89.1896505376344]\n",
      "[76.07931795045809, 49.31913554343265, 60.51881720430107]\n",
      "[328.89222853749857, 294.02208036088797, 300.52701209677576]\n"
     ]
    }
   ],
   "source": [
    "floatPrec = [\"fp32\", \"fp16\", \"half2\"]\n",
    "file_path = [\"../profile_fp32.log\", \"../profile_fp16.log\", \"../profile_half2.log\"]\n",
    "memory_used = [0.0] * len(floatPrec)\n",
    "util_gpu = [0.0] * len(floatPrec)\n",
    "util_memory = [0.0] * len(floatPrec)\n",
    "power_draw = [0.0] * len(floatPrec)\n",
    "count = [0] * len(floatPrec)\n",
    "\n",
    "for i in range(len(floatPrec)):\n",
    "    with open(file_path[i], \"r\") as file:\n",
    "        for line in file:\n",
    "            if line.startswith(\"8, A100-SXM-80GB\"):\n",
    "                count[i] += 1\n",
    "                data = line.strip().split(\",\")\n",
    "\n",
    "                memory_used[i] += float(data[4].split()[0])\n",
    "                util_gpu[i] += float(data[5].split()[0])\n",
    "                util_memory[i] += float(data[6].split()[0])\n",
    "                power_draw[i] += float(data[8].split()[0])\n",
    "\n",
    "memory_used = [sum / size for sum, size in zip(memory_used, count)]\n",
    "util_gpu = [sum / size for sum, size in zip(util_gpu, count)]\n",
    "util_memory = [sum / size for sum, size in zip(util_memory, count)]\n",
    "power_draw = [sum / size for sum, size in zip(power_draw, count)]\n",
    "\n",
    "print(memory_used)\n",
    "print(util_gpu)\n",
    "print(util_memory)\n",
    "print(power_draw)"
   ]
  },
  {
   "cell_type": "code",
   "execution_count": 50,
   "metadata": {},
   "outputs": [
    {
     "name": "stdout",
     "output_type": "stream",
     "text": [
      "[23960.0, 12424.0, 12424.0]\n",
      "[99.85298174872665, 99.76486505732393, 99.72320540862995]\n",
      "[84.33101655348048, 56.43352559994303, 71.64913501690197]\n",
      "[337.4776777376901, 296.9425400555501, 309.5290087492525]\n"
     ]
    }
   ],
   "source": [
    "floatPrec = [\"fp32\", \"fp16\", \"half2\"]\n",
    "file_path = [\"../profile_fp32_singleGPU.log\", \"../profile_fp16_singleGPU.log\", \"../profile_half2_singleGPU.log\"]\n",
    "memory_used = [0.0] * len(floatPrec)\n",
    "util_gpu = [0.0] * len(floatPrec)\n",
    "util_memory = [0.0] * len(floatPrec)\n",
    "power_draw = [0.0] * len(floatPrec)\n",
    "count = [0] * len(floatPrec)\n",
    "\n",
    "for i in range(len(floatPrec)):\n",
    "    with open(file_path[i], \"r\") as file:\n",
    "        for line in file:\n",
    "            if line.startswith(\"8, A100-SXM-80GB\"):\n",
    "                count[i] += 1\n",
    "                data = line.strip().split(\",\")\n",
    "\n",
    "                memory_used[i] += float(data[4].split()[0])\n",
    "                util_gpu[i] += float(data[5].split()[0])\n",
    "                util_memory[i] += float(data[6].split()[0])\n",
    "                power_draw[i] += float(data[8].split()[0])\n",
    "\n",
    "memory_used = [sum / size for sum, size in zip(memory_used, count)]\n",
    "util_gpu = [sum / size for sum, size in zip(util_gpu, count)]\n",
    "util_memory = [sum / size for sum, size in zip(util_memory, count)]\n",
    "power_draw = [sum / size for sum, size in zip(power_draw, count)]\n",
    "\n",
    "print(memory_used)\n",
    "print(util_gpu)\n",
    "print(util_memory)\n",
    "print(power_draw)"
   ]
  },
  {
   "cell_type": "code",
   "execution_count": 53,
   "metadata": {},
   "outputs": [
    {
     "name": "stdout",
     "output_type": "stream",
     "text": [
      "[3910.25, 2396.0, 2528.004211265134]\n",
      "[78.59015444015444, 76.59800531914894, 71.50640463239165]\n",
      "[61.70511583011583, 40.29601063829787, 46.137743463765574]\n",
      "[287.50339864864867, 256.72204122340344, 247.5735602737306]\n"
     ]
    }
   ],
   "source": [
    "floatPrec = [\"fp32\", \"fp16\", \"half2\"]\n",
    "file_path = [\"../profile_fp32_8GPU.log\", \"../profile_fp16_8GPU.log\", \"../profile_half2_8GPU.log\"]\n",
    "memory_used = [0.0] * len(floatPrec)\n",
    "util_gpu = [0.0] * len(floatPrec)\n",
    "util_memory = [0.0] * len(floatPrec)\n",
    "power_draw = [0.0] * len(floatPrec)\n",
    "count = [0] * len(floatPrec)\n",
    "\n",
    "for i in range(len(floatPrec)):\n",
    "    with open(file_path[i], \"r\") as file:\n",
    "        for line in file:\n",
    "            if line.startswith(\"8, A100-SXM-80GB\"):\n",
    "                count[i] += 1\n",
    "                data = line.strip().split(\",\")\n",
    "\n",
    "                memory_used[i] += float(data[4].split()[0])\n",
    "                util_gpu[i] += float(data[5].split()[0])\n",
    "                util_memory[i] += float(data[6].split()[0])\n",
    "                power_draw[i] += float(data[8].split()[0])\n",
    "\n",
    "memory_used = [sum / size for sum, size in zip(memory_used, count)]\n",
    "util_gpu = [sum / size for sum, size in zip(util_gpu, count)]\n",
    "util_memory = [sum / size for sum, size in zip(util_memory, count)]\n",
    "power_draw = [sum / size for sum, size in zip(power_draw, count)]\n",
    "\n",
    "print(memory_used)\n",
    "print(util_gpu)\n",
    "print(util_memory)\n",
    "print(power_draw)"
   ]
  }
 ],
 "metadata": {
  "kernelspec": {
   "display_name": "python3.9",
   "language": "python",
   "name": "python3"
  },
  "language_info": {
   "codemirror_mode": {
    "name": "ipython",
    "version": 3
   },
   "file_extension": ".py",
   "mimetype": "text/x-python",
   "name": "python",
   "nbconvert_exporter": "python",
   "pygments_lexer": "ipython3",
   "version": "3.9.12"
  }
 },
 "nbformat": 4,
 "nbformat_minor": 2
}
