{
 "cells": [
  {
   "cell_type": "code",
   "execution_count": 1,
   "metadata": {},
   "outputs": [
    {
     "name": "stdout",
     "output_type": "stream",
     "text": [
      "paramsDir/paramsCGFDM3D_fp16.json\n",
      "paramsDir/paramsCGFDM3D_fp32.json\n",
      "paramsDir/paramsCGFDM3D_half2.json\n"
     ]
    }
   ],
   "source": [
    "import json\n",
    "\n",
    "exeFile = [\n",
    "'CGFDM3D_fp16',\n",
    "'CGFDM3D_fp32',\n",
    "'CGFDM3D_half2'\n",
    "]\n",
    "\n",
    "jsonsFile = open( \"params.json\" )\n",
    "params = json.load( jsonsFile )\n",
    "\n",
    "for iExe in exeFile:\n",
    "\tparams['out'] = 'output/%s' % iExe\n",
    "\t\n",
    "\tprint( \"paramsDir/params%s.json\" % iExe )\n",
    "\tparamsJsonFile = open( \"paramsDir/params%s.json\" % iExe, 'w' )\n",
    "\t\n",
    "\tjson_str = json.dumps( params, indent = 4 )\n",
    "\tparamsJsonFile.write( json_str )\n",
    "\tparamsJsonFile.close( )"
   ]
  }
 ],
 "metadata": {
  "kernelspec": {
   "display_name": "python3.9",
   "language": "python",
   "name": "python3"
  },
  "language_info": {
   "codemirror_mode": {
    "name": "ipython",
    "version": 3
   },
   "file_extension": ".py",
   "mimetype": "text/x-python",
   "name": "python",
   "nbconvert_exporter": "python",
   "pygments_lexer": "ipython3",
   "version": "3.9.12"
  },
  "orig_nbformat": 4
 },
 "nbformat": 4,
 "nbformat_minor": 2
}
