{
 "cells": [
  {
   "cell_type": "code",
   "execution_count": 10,
   "metadata": {},
   "outputs": [],
   "source": [
    "import numpy as np\n",
    "import matplotlib.pyplot as plt\n",
    "\n",
    "%matplotlib inline\n",
    "%config InlineBackend.figure_format = 'svg'"
   ]
  },
  {
   "cell_type": "code",
   "execution_count": 11,
   "metadata": {},
   "outputs": [],
   "source": [
    "# floatPrec = [\"fp32\", \"fp16\", \"half2\"]\n",
    "# file_path = [\"../profilersDir/profile_fp32.log\", \"../profilersDir/profile_fp16.log\", \"../profilersDir/profile_half2.log\"]\n",
    "# memory_used = [0.0] * len(floatPrec)\n",
    "# util_gpu = [0.0] * len(floatPrec)\n",
    "# util_memory = [0.0] * len(floatPrec)\n",
    "# power_draw = [0.0] * len(floatPrec)\n",
    "# count = [0] * len(floatPrec)\n",
    "\n",
    "# for i in range(len(floatPrec)):\n",
    "#     with open(file_path[i], \"r\") as file:\n",
    "#         for line in file:\n",
    "#             if line.startswith(\"8, A100-SXM-80GB\"):\n",
    "#                 count[i] += 1\n",
    "#                 data = line.strip().split(\",\")\n",
    "\n",
    "#                 memory_used[i] += float(data[4].split()[0])\n",
    "#                 util_gpu[i] += float(data[5].split()[0])\n",
    "#                 util_memory[i] += float(data[6].split()[0])\n",
    "#                 power_draw[i] += float(data[8].split()[0])\n",
    "\n",
    "# memory_used = [sum / size for sum, size in zip(memory_used, count)]\n",
    "# util_gpu = [sum / size for sum, size in zip(util_gpu, count)]\n",
    "# util_memory = [sum / size for sum, size in zip(util_memory, count)]\n",
    "# power_draw = [sum / size for sum, size in zip(power_draw, count)]\n",
    "\n",
    "# print(memory_used)\n",
    "# print(util_gpu)\n",
    "# print(util_memory)\n",
    "# print(power_draw)"
   ]
  },
  {
   "cell_type": "code",
   "execution_count": 12,
   "metadata": {},
   "outputs": [
    {
     "name": "stdout",
     "output_type": "stream",
     "text": [
      "[22078.0, 11418.0, 11418.0]\n",
      "[99.96394433511387, 99.96070504527813, 99.9424931981202]\n",
      "[91.14295754849593, 58.65685640362225, 81.82030670294336]\n",
      "[348.37083427044956, 300.07647558214836, 326.72598441751836]\n"
     ]
    }
   ],
   "source": [
    "floatPrec = [\"fp32\", \"fp16\", \"half2\"]\n",
    "file_path = [\"../profilersDir/profile_fp32_singleGPU.log\", \"../profilersDir/profile_fp16_singleGPU.log\", \"../profilersDir/profile_half2_singleGPU.log\"]\n",
    "memory_used = [0.0] * len(floatPrec)\n",
    "util_gpu = [0.0] * len(floatPrec)\n",
    "util_memory = [0.0] * len(floatPrec)\n",
    "power_draw = [0.0] * len(floatPrec)\n",
    "count = [0] * len(floatPrec)\n",
    "\n",
    "for i in range(len(floatPrec)):\n",
    "    with open(file_path[i], \"r\") as file:\n",
    "        for line in file:\n",
    "            if line.startswith(\"8, A100-SXM-80GB\"):\n",
    "                count[i] += 1\n",
    "                data = line.strip().split(\",\")\n",
    "\n",
    "                memory_used[i] += float(data[4].split()[0])\n",
    "                util_gpu[i] += float(data[5].split()[0])\n",
    "                util_memory[i] += float(data[6].split()[0])\n",
    "                power_draw[i] += float(data[8].split()[0])\n",
    "\n",
    "memory_used = [sum / size for sum, size in zip(memory_used, count)]\n",
    "util_gpu = [sum / size for sum, size in zip(util_gpu, count)]\n",
    "util_memory = [sum / size for sum, size in zip(util_memory, count)]\n",
    "power_draw = [sum / size for sum, size in zip(power_draw, count)]\n",
    "\n",
    "print(memory_used)\n",
    "print(util_gpu)\n",
    "print(util_memory)\n",
    "print(power_draw)"
   ]
  },
  {
   "cell_type": "code",
   "execution_count": 13,
   "metadata": {},
   "outputs": [
    {
     "name": "stdout",
     "output_type": "stream",
     "text": [
      "[11551.0, 6155.0, 6155.0]\n",
      "[97.91182282232833, 97.57056534207292, 96.79985294117647]\n",
      "[88.23061090070806, 55.955038918476035, 77.53397058823529]\n",
      "[366.0078593775787, 319.3272419090492, 333.0992735294101]\n"
     ]
    }
   ],
   "source": [
    "floatPrec = [\"fp32\", \"fp16\", \"half2\"]\n",
    "file_path = [\"../profilersDir/profile_fp32_2GPU.log\", \"../profilersDir/profile_fp16_2GPU.log\", \"../profilersDir/profile_half2_2GPU.log\"]\n",
    "memory_used = [0.0] * len(floatPrec)\n",
    "util_gpu = [0.0] * len(floatPrec)\n",
    "util_memory = [0.0] * len(floatPrec)\n",
    "power_draw = [0.0] * len(floatPrec)\n",
    "count = [0] * len(floatPrec)\n",
    "\n",
    "for i in range(len(floatPrec)):\n",
    "    with open(file_path[i], \"r\") as file:\n",
    "        for line in file:\n",
    "            if line.startswith(\"8, A100-SXM-80GB\"):\n",
    "                count[i] += 1\n",
    "                data = line.strip().split(\",\")\n",
    "\n",
    "                memory_used[i] += float(data[4].split()[0])\n",
    "                util_gpu[i] += float(data[5].split()[0])\n",
    "                util_memory[i] += float(data[6].split()[0])\n",
    "                power_draw[i] += float(data[8].split()[0])\n",
    "\n",
    "memory_used = [sum / size for sum, size in zip(memory_used, count)]\n",
    "util_gpu = [sum / size for sum, size in zip(util_gpu, count)]\n",
    "util_memory = [sum / size for sum, size in zip(util_memory, count)]\n",
    "power_draw = [sum / size for sum, size in zip(power_draw, count)]\n",
    "\n",
    "print(memory_used)\n",
    "print(util_gpu)\n",
    "print(util_memory)\n",
    "print(power_draw)"
   ]
  },
  {
   "cell_type": "code",
   "execution_count": 17,
   "metadata": {},
   "outputs": [
    {
     "name": "stdout",
     "output_type": "stream",
     "text": [
      "[6286.5, 3522.5, 3522.5]\n",
      "[96.53794010522056, 96.54909489851893, 94.97781954887218]\n",
      "[85.9364629704573, 54.37191442676906, 73.22368421052632]\n",
      "[353.1443959935265, 319.5058022490396, 339.4387932330801]\n"
     ]
    }
   ],
   "source": [
    "floatPrec = [\"fp32\", \"fp16\", \"half2\"]\n",
    "file_path = [\"../profilersDir/profile_fp32_4GPU.log\", \"../profilersDir/profile_fp16_4GPU.log\", \"../profilersDir/profile_half2_4GPU.log\"]\n",
    "memory_used = [0.0] * len(floatPrec)\n",
    "util_gpu = [0.0] * len(floatPrec)\n",
    "util_memory = [0.0] * len(floatPrec)\n",
    "power_draw = [0.0] * len(floatPrec)\n",
    "count = [0] * len(floatPrec)\n",
    "\n",
    "for i in range(len(floatPrec)):\n",
    "    with open(file_path[i], \"r\") as file:\n",
    "        for line in file:\n",
    "            if line.startswith(\"8, A100-SXM-80GB\"):\n",
    "                count[i] += 1\n",
    "                data = line.strip().split(\",\")\n",
    "\n",
    "                memory_used[i] += float(data[4].split()[0])\n",
    "                util_gpu[i] += float(data[5].split()[0])\n",
    "                util_memory[i] += float(data[6].split()[0])\n",
    "                power_draw[i] += float(data[8].split()[0])\n",
    "\n",
    "memory_used = [sum / size for sum, size in zip(memory_used, count)]\n",
    "util_gpu = [sum / size for sum, size in zip(util_gpu, count)]\n",
    "util_memory = [sum / size for sum, size in zip(util_memory, count)]\n",
    "power_draw = [sum / size for sum, size in zip(power_draw, count)]\n",
    "\n",
    "print(memory_used)\n",
    "print(util_gpu)\n",
    "print(util_memory)\n",
    "print(power_draw)"
   ]
  },
  {
   "cell_type": "code",
   "execution_count": 15,
   "metadata": {},
   "outputs": [
    {
     "name": "stdout",
     "output_type": "stream",
     "text": [
      "[3656.0, 2200.0, 2200.0]\n",
      "[94.40458650190114, 91.76821705426356, 91.32254697286012]\n",
      "[80.85895912547528, 47.82248062015504, 63.6482254697286]\n",
      "[332.9207188688216, 301.08184302325515, 307.5826670146141]\n"
     ]
    }
   ],
   "source": [
    "floatPrec = [\"fp32\", \"fp16\", \"half2\"]\n",
    "file_path = [\"../profilersDir/profile_fp32_8GPU.log\", \"../profilersDir/profile_fp16_8GPU.log\", \"../profilersDir/profile_half2_8GPU.log\"]\n",
    "memory_used = [0.0] * len(floatPrec)\n",
    "util_gpu = [0.0] * len(floatPrec)\n",
    "util_memory = [0.0] * len(floatPrec)\n",
    "power_draw = [0.0] * len(floatPrec)\n",
    "count = [0] * len(floatPrec)\n",
    "\n",
    "for i in range(len(floatPrec)):\n",
    "    with open(file_path[i], \"r\") as file:\n",
    "        for line in file:\n",
    "            if line.startswith(\"8, A100-SXM-80GB\"):\n",
    "                count[i] += 1\n",
    "                data = line.strip().split(\",\")\n",
    "\n",
    "                memory_used[i] += float(data[4].split()[0])\n",
    "                util_gpu[i] += float(data[5].split()[0])\n",
    "                util_memory[i] += float(data[6].split()[0])\n",
    "                power_draw[i] += float(data[8].split()[0])\n",
    "\n",
    "memory_used = [sum / size for sum, size in zip(memory_used, count)]\n",
    "util_gpu = [sum / size for sum, size in zip(util_gpu, count)]\n",
    "util_memory = [sum / size for sum, size in zip(util_memory, count)]\n",
    "power_draw = [sum / size for sum, size in zip(power_draw, count)]\n",
    "\n",
    "print(memory_used)\n",
    "print(util_gpu)\n",
    "print(util_memory)\n",
    "print(power_draw)"
   ]
  }
 ],
 "metadata": {
  "kernelspec": {
   "display_name": "python3.9",
   "language": "python",
   "name": "python3"
  },
  "language_info": {
   "codemirror_mode": {
    "name": "ipython",
    "version": 3
   },
   "file_extension": ".py",
   "mimetype": "text/x-python",
   "name": "python",
   "nbconvert_exporter": "python",
   "pygments_lexer": "ipython3",
   "version": "3.9.12"
  }
 },
 "nbformat": 4,
 "nbformat_minor": 2
}
